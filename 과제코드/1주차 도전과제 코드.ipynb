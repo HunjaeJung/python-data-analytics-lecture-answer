{
 "cells": [
  {
   "cell_type": "markdown",
   "metadata": {},
   "source": [
    "# 기본 변수 정의"
   ]
  },
  {
   "cell_type": "code",
   "execution_count": 12,
   "metadata": {
    "collapsed": false
   },
   "outputs": [
    {
     "name": "stdout",
     "output_type": "stream",
     "text": [
      "카페라떼 5000\n",
      "아메리카노 4000\n",
      "카페모카 6000\n",
      "프라프치노 7000\n"
     ]
    }
   ],
   "source": [
    "# coffee_menu list 선언\n",
    "coffee_menu = []\n",
    "\n",
    "# 오늘 배운 함수를 이용하여, 이렇게 dictionary 객체를 만들 수도 있습니다.\n",
    "def create_coffee(name, price):\n",
    "    coffee = {}\n",
    "    coffee['name'] = name\n",
    "    coffee['price'] = price\n",
    "    return coffee\n",
    "\n",
    "# list에 append를 하면, \n",
    "coffee_menu.append(create_coffee(\"카페라떼\", 5000))\n",
    "coffee_menu.append(create_coffee(\"아메리카노\", 4000))\n",
    "coffee_menu.append(create_coffee(\"카페모카\", 6000))\n",
    "coffee_menu.append(create_coffee(\"프라프치노\", 7000))\n",
    "\n",
    "for coffee in coffee_menu:\n",
    "    print coffee['name'], coffee['price']"
   ]
  },
  {
   "cell_type": "markdown",
   "metadata": {},
   "source": [
    "# 도전 과제 코드"
   ]
  },
  {
   "cell_type": "code",
   "execution_count": 14,
   "metadata": {
    "collapsed": false
   },
   "outputs": [
    {
     "name": "stdout",
     "output_type": "stream",
     "text": [
      "총 10000원입니다.\n",
      "10000\n"
     ]
    }
   ],
   "source": [
    "def calculate_total_price(coffees):\n",
    "    total_price = 0\n",
    "    \n",
    "    for ordered_coffee_name in coffees:\n",
    "        for coffee in coffee_menu:\n",
    "            if coffee['name'] == ordered_coffee_name:\n",
    "                total_price = total_price + coffee['price']\n",
    "    \n",
    "    # total_price는 숫자(정수형)이므로 str 함수로 자료형 변환을 시켜주면, 아래와 같이 문자열과 함께 사용할 수 있습니다.\n",
    "    print '총 ' + str(total_price) + '원입니다.'\n",
    "\n",
    "    # 함수의 return을 활용하면, 함수의 출력값을 함수를 호출한 부분으로 불러낼 수 있습니다. 2주차에 또 알려드릴게요~\n",
    "    return total_price\n",
    "\n",
    "# return을 하면 이렇게 total_price 변수에 결과값을 담을 수 있습니다.\n",
    "total_price = calculate_total_price([\"아메리카노\", \"카페모카\"]) # 아메리카노가 4000원, 카페모카가 6000원이니 10000이 찍혀야 합니다.\n",
    "print total_price"
   ]
  }
 ],
 "metadata": {
  "kernelspec": {
   "display_name": "Python 2",
   "language": "python",
   "name": "python2"
  },
  "language_info": {
   "codemirror_mode": {
    "name": "ipython",
    "version": 2
   },
   "file_extension": ".py",
   "mimetype": "text/x-python",
   "name": "python",
   "nbconvert_exporter": "python",
   "pygments_lexer": "ipython2",
   "version": "2.7.9"
  }
 },
 "nbformat": 4,
 "nbformat_minor": 0
}
